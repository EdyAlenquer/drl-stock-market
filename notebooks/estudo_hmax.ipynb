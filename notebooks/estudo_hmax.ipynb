{
 "cells": [
  {
   "cell_type": "code",
   "execution_count": 142,
   "metadata": {},
   "outputs": [],
   "source": [
    "import pandas as pd\n",
    "import numpy as np\n",
    "import os\n",
    "from pathlib import Path\n",
    "\n",
    "%reload_ext autoreload\n",
    "%autoreload 2"
   ]
  },
  {
   "cell_type": "code",
   "execution_count": 2,
   "metadata": {},
   "outputs": [
    {
     "data": {
      "text/plain": [
       "14.65999984741211"
      ]
     },
     "execution_count": 2,
     "metadata": {},
     "output_type": "execute_result"
    }
   ],
   "source": [
    "df = pd.read_csv('..\\cvm_data\\PETR4.SA_FUND.csv')\n",
    "close_price = df[df['date']>='2017-01-01']['close_price'].iloc[0]\n",
    "close_price\n"
   ]
  },
  {
   "cell_type": "code",
   "execution_count": 3,
   "metadata": {},
   "outputs": [
    {
     "data": {
      "text/plain": [
       "6821.282472090389"
      ]
     },
     "execution_count": 3,
     "metadata": {},
     "output_type": "execute_result"
    }
   ],
   "source": [
    "initial_amount = 100000\n",
    "initial_amount / close_price"
   ]
  },
  {
   "cell_type": "code",
   "execution_count": 6,
   "metadata": {},
   "outputs": [
    {
     "name": "stderr",
     "output_type": "stream",
     "text": [
      "c:\\ProgramData\\Anaconda3\\envs\\rl_study\\lib\\site-packages\\tqdm\\auto.py:22: TqdmWarning: IProgress not found. Please update jupyter and ipywidgets. See https://ipywidgets.readthedocs.io/en/stable/user_install.html\n",
      "  from .autonotebook import tqdm as notebook_tqdm\n"
     ]
    }
   ],
   "source": [
    "import sys\n",
    "sys.path.append('..')\n",
    "from finrl.meta.env_stock_trading.env_stocktrading import StockTradingEnvV2"
   ]
  },
  {
   "cell_type": "code",
   "execution_count": 144,
   "metadata": {},
   "outputs": [
    {
     "name": "stdout",
     "output_type": "stream",
     "text": [
      "100000\n",
      "<class 'int'>\n",
      "100000\n",
      "<class 'numpy.float64'>\n",
      "0.5\n",
      "<class 'float'>\n"
     ]
    }
   ],
   "source": [
    "df = pd.read_pickle(r'..\\experiments\\ITUB4_012017_122018\\TEST_ENV_V2_DDPG_0.5_TECH_FUND\\tuning\\dataset.pkl')\n",
    "env_kwargs = {\n",
    "    'stock_dim': 1, 'perc_hmax': 0.5, 'initial_amount': 100000, 'num_stock_shares': [0], 'buy_cost_pct': [0.001], \n",
    "    'sell_cost_pct': [0.001], 'reward_scaling': 1, 'state_space': 26, 'action_space': 1, \n",
    "    'tech_indicator_list': ['LPA', 'VPA', 'P/L', 'P/EBITDA', 'P/VPA', 'ROE', 'MARGEM_EBITDA', 'MARGEM_EBIT', 'MARGEM_LIQUIDA', \n",
    "    'macd', 'boll_ub', 'boll_lb', 'rsi_30', 'stochrsi_30', 'wr_30', 'vwma_30', 'cci_30', 'dx_30', 'close_30_sma', 'close_60_sma'], \n",
    "    'turbulence_threshold': None, 'print_verbosity': 1000} \n",
    "env = StockTradingEnvV2(\n",
    "    df=df,\n",
    "    **env_kwargs\n",
    ")"
   ]
  },
  {
   "cell_type": "code",
   "execution_count": 150,
   "metadata": {},
   "outputs": [
    {
     "data": {
      "text/plain": [
       "196.65076116334552"
      ]
     },
     "execution_count": 150,
     "metadata": {},
     "output_type": "execute_result"
    }
   ],
   "source": [
    "0.037 * 100000 / 18.815081"
   ]
  },
  {
   "cell_type": "code",
   "execution_count": 145,
   "metadata": {},
   "outputs": [
    {
     "data": {
      "text/html": [
       "<div>\n",
       "<style scoped>\n",
       "    .dataframe tbody tr th:only-of-type {\n",
       "        vertical-align: middle;\n",
       "    }\n",
       "\n",
       "    .dataframe tbody tr th {\n",
       "        vertical-align: top;\n",
       "    }\n",
       "\n",
       "    .dataframe thead th {\n",
       "        text-align: right;\n",
       "    }\n",
       "</style>\n",
       "<table border=\"1\" class=\"dataframe\">\n",
       "  <thead>\n",
       "    <tr style=\"text-align: right;\">\n",
       "      <th></th>\n",
       "      <th>date</th>\n",
       "      <th>tic</th>\n",
       "      <th>open</th>\n",
       "      <th>high</th>\n",
       "      <th>low</th>\n",
       "      <th>close</th>\n",
       "      <th>volume</th>\n",
       "      <th>day</th>\n",
       "      <th>macd</th>\n",
       "      <th>boll_ub</th>\n",
       "      <th>...</th>\n",
       "      <th>EBITDA</th>\n",
       "      <th>LPA</th>\n",
       "      <th>VPA</th>\n",
       "      <th>P/L</th>\n",
       "      <th>P/EBITDA</th>\n",
       "      <th>P/VPA</th>\n",
       "      <th>ROE</th>\n",
       "      <th>MARGEM_EBITDA</th>\n",
       "      <th>MARGEM_EBIT</th>\n",
       "      <th>MARGEM_LIQUIDA</th>\n",
       "    </tr>\n",
       "  </thead>\n",
       "  <tbody>\n",
       "    <tr>\n",
       "      <th>0</th>\n",
       "      <td>2017-01-03</td>\n",
       "      <td>ITUB</td>\n",
       "      <td>22.559999</td>\n",
       "      <td>23.313334</td>\n",
       "      <td>22.520000</td>\n",
       "      <td>18.815081</td>\n",
       "      <td>25215000.0</td>\n",
       "      <td>1.0</td>\n",
       "      <td>0.017151</td>\n",
       "      <td>19.513950</td>\n",
       "      <td>...</td>\n",
       "      <td>40853000.0</td>\n",
       "      <td>3.461248</td>\n",
       "      <td>20.595361</td>\n",
       "      <td>6.731675</td>\n",
       "      <td>5.703375e-07</td>\n",
       "      <td>1.131323</td>\n",
       "      <td>0.16806</td>\n",
       "      <td>0.242291</td>\n",
       "      <td>0.223675</td>\n",
       "      <td>0.135122</td>\n",
       "    </tr>\n",
       "    <tr>\n",
       "      <th>1</th>\n",
       "      <td>2017-01-04</td>\n",
       "      <td>ITUB</td>\n",
       "      <td>23.200001</td>\n",
       "      <td>23.486666</td>\n",
       "      <td>23.139999</td>\n",
       "      <td>18.895842</td>\n",
       "      <td>13619250.0</td>\n",
       "      <td>2.0</td>\n",
       "      <td>0.024358</td>\n",
       "      <td>19.520024</td>\n",
       "      <td>...</td>\n",
       "      <td>40853000.0</td>\n",
       "      <td>3.461248</td>\n",
       "      <td>20.595361</td>\n",
       "      <td>6.760567</td>\n",
       "      <td>5.727853e-07</td>\n",
       "      <td>1.136178</td>\n",
       "      <td>0.16806</td>\n",
       "      <td>0.242291</td>\n",
       "      <td>0.223675</td>\n",
       "      <td>0.135122</td>\n",
       "    </tr>\n",
       "    <tr>\n",
       "      <th>2</th>\n",
       "      <td>2017-01-05</td>\n",
       "      <td>ITUB</td>\n",
       "      <td>23.393333</td>\n",
       "      <td>23.986666</td>\n",
       "      <td>23.206667</td>\n",
       "      <td>19.154234</td>\n",
       "      <td>21988800.0</td>\n",
       "      <td>3.0</td>\n",
       "      <td>0.036368</td>\n",
       "      <td>19.678510</td>\n",
       "      <td>...</td>\n",
       "      <td>40853000.0</td>\n",
       "      <td>3.461248</td>\n",
       "      <td>20.595361</td>\n",
       "      <td>6.853019</td>\n",
       "      <td>5.806183e-07</td>\n",
       "      <td>1.151716</td>\n",
       "      <td>0.16806</td>\n",
       "      <td>0.242291</td>\n",
       "      <td>0.223675</td>\n",
       "      <td>0.135122</td>\n",
       "    </tr>\n",
       "    <tr>\n",
       "      <th>3</th>\n",
       "      <td>2017-01-06</td>\n",
       "      <td>ITUB</td>\n",
       "      <td>23.693333</td>\n",
       "      <td>23.913334</td>\n",
       "      <td>23.473333</td>\n",
       "      <td>19.218851</td>\n",
       "      <td>14017650.0</td>\n",
       "      <td>4.0</td>\n",
       "      <td>0.044700</td>\n",
       "      <td>19.758731</td>\n",
       "      <td>...</td>\n",
       "      <td>40853000.0</td>\n",
       "      <td>3.461248</td>\n",
       "      <td>20.595361</td>\n",
       "      <td>6.876132</td>\n",
       "      <td>5.825765e-07</td>\n",
       "      <td>1.155600</td>\n",
       "      <td>0.16806</td>\n",
       "      <td>0.242291</td>\n",
       "      <td>0.223675</td>\n",
       "      <td>0.135122</td>\n",
       "    </tr>\n",
       "    <tr>\n",
       "      <th>4</th>\n",
       "      <td>2017-01-09</td>\n",
       "      <td>ITUB</td>\n",
       "      <td>23.566666</td>\n",
       "      <td>24.000000</td>\n",
       "      <td>23.453333</td>\n",
       "      <td>19.310356</td>\n",
       "      <td>16102650.0</td>\n",
       "      <td>0.0</td>\n",
       "      <td>0.052781</td>\n",
       "      <td>19.829675</td>\n",
       "      <td>...</td>\n",
       "      <td>40853000.0</td>\n",
       "      <td>3.461248</td>\n",
       "      <td>20.595361</td>\n",
       "      <td>6.908876</td>\n",
       "      <td>5.853507e-07</td>\n",
       "      <td>1.161103</td>\n",
       "      <td>0.16806</td>\n",
       "      <td>0.242291</td>\n",
       "      <td>0.223675</td>\n",
       "      <td>0.135122</td>\n",
       "    </tr>\n",
       "    <tr>\n",
       "      <th>5</th>\n",
       "      <td>2017-01-10</td>\n",
       "      <td>ITUB</td>\n",
       "      <td>24.066666</td>\n",
       "      <td>24.219999</td>\n",
       "      <td>23.713333</td>\n",
       "      <td>19.245754</td>\n",
       "      <td>11749950.0</td>\n",
       "      <td>1.0</td>\n",
       "      <td>0.054128</td>\n",
       "      <td>19.835625</td>\n",
       "      <td>...</td>\n",
       "      <td>40853000.0</td>\n",
       "      <td>3.461248</td>\n",
       "      <td>20.595361</td>\n",
       "      <td>6.885762</td>\n",
       "      <td>5.833925e-07</td>\n",
       "      <td>1.157218</td>\n",
       "      <td>0.16806</td>\n",
       "      <td>0.242291</td>\n",
       "      <td>0.223675</td>\n",
       "      <td>0.135122</td>\n",
       "    </tr>\n",
       "  </tbody>\n",
       "</table>\n",
       "<p>6 rows × 40 columns</p>\n",
       "</div>"
      ],
      "text/plain": [
       "         date   tic       open       high        low      close      volume  \\\n",
       "0  2017-01-03  ITUB  22.559999  23.313334  22.520000  18.815081  25215000.0   \n",
       "1  2017-01-04  ITUB  23.200001  23.486666  23.139999  18.895842  13619250.0   \n",
       "2  2017-01-05  ITUB  23.393333  23.986666  23.206667  19.154234  21988800.0   \n",
       "3  2017-01-06  ITUB  23.693333  23.913334  23.473333  19.218851  14017650.0   \n",
       "4  2017-01-09  ITUB  23.566666  24.000000  23.453333  19.310356  16102650.0   \n",
       "5  2017-01-10  ITUB  24.066666  24.219999  23.713333  19.245754  11749950.0   \n",
       "\n",
       "   day      macd    boll_ub  ...      EBITDA       LPA        VPA       P/L  \\\n",
       "0  1.0  0.017151  19.513950  ...  40853000.0  3.461248  20.595361  6.731675   \n",
       "1  2.0  0.024358  19.520024  ...  40853000.0  3.461248  20.595361  6.760567   \n",
       "2  3.0  0.036368  19.678510  ...  40853000.0  3.461248  20.595361  6.853019   \n",
       "3  4.0  0.044700  19.758731  ...  40853000.0  3.461248  20.595361  6.876132   \n",
       "4  0.0  0.052781  19.829675  ...  40853000.0  3.461248  20.595361  6.908876   \n",
       "5  1.0  0.054128  19.835625  ...  40853000.0  3.461248  20.595361  6.885762   \n",
       "\n",
       "       P/EBITDA     P/VPA      ROE  MARGEM_EBITDA  MARGEM_EBIT  MARGEM_LIQUIDA  \n",
       "0  5.703375e-07  1.131323  0.16806       0.242291     0.223675        0.135122  \n",
       "1  5.727853e-07  1.136178  0.16806       0.242291     0.223675        0.135122  \n",
       "2  5.806183e-07  1.151716  0.16806       0.242291     0.223675        0.135122  \n",
       "3  5.825765e-07  1.155600  0.16806       0.242291     0.223675        0.135122  \n",
       "4  5.853507e-07  1.161103  0.16806       0.242291     0.223675        0.135122  \n",
       "5  5.833925e-07  1.157218  0.16806       0.242291     0.223675        0.135122  \n",
       "\n",
       "[6 rows x 40 columns]"
      ]
     },
     "execution_count": 145,
     "metadata": {},
     "output_type": "execute_result"
    }
   ],
   "source": [
    "df.head(6)"
   ]
  },
  {
   "cell_type": "code",
   "execution_count": 139,
   "metadata": {},
   "outputs": [
    {
     "name": "stdout",
     "output_type": "stream",
     "text": [
      "271\n",
      "Action: [271]\n",
      "Action: [275]\n",
      "Action: [266]\n",
      "Action: [272]\n"
     ]
    },
    {
     "data": {
      "text/plain": [
       "[80031.73761618233,\n",
       " 18.6661319732666,\n",
       " 1084,\n",
       " -4.268346622857663,\n",
       " 25.89280659152942,\n",
       " -6.208492969640367,\n",
       " -2.905848639936733e-06,\n",
       " 1.0234502739718148,\n",
       " 0.6234776988062816,\n",
       " -9.283591637691336,\n",
       " -0.1648468120969941,\n",
       " -0.0994241166541077,\n",
       " -3.747070200209736,\n",
       " -0.2463292248710095,\n",
       " -0.2440435865526489,\n",
       " 0.03596180702524521,\n",
       " 19.148331874302805,\n",
       " 17.49833497038307,\n",
       " 68.49344163928788,\n",
       " 15.03167383834218,\n",
       " -445.07383499685034,\n",
       " 23.53575637515917,\n",
       " 96.25095556119123,\n",
       " 100.0,\n",
       " 18.323333422342937,\n",
       " 18.323333422342937]"
      ]
     },
     "execution_count": 139,
     "metadata": {},
     "output_type": "execute_result"
    }
   ],
   "source": [
    "# print(env.hmax)\n",
    "env.reset()\n",
    "print(env.hmax)\n",
    "env.step(np.array([1]))\n",
    "# env.step(np.array([-1]))\n",
    "env.step(np.array([1]))\n",
    "env.step(np.array([1]))\n",
    "env.step(np.array([1]))\n",
    "\n",
    "\n",
    "env.state"
   ]
  }
 ],
 "metadata": {
  "kernelspec": {
   "display_name": "Python 3.7.12 ('rl_study')",
   "language": "python",
   "name": "python3"
  },
  "language_info": {
   "codemirror_mode": {
    "name": "ipython",
    "version": 3
   },
   "file_extension": ".py",
   "mimetype": "text/x-python",
   "name": "python",
   "nbconvert_exporter": "python",
   "pygments_lexer": "ipython3",
   "version": "3.7.12"
  },
  "orig_nbformat": 4,
  "vscode": {
   "interpreter": {
    "hash": "4886b0e8a671695cd3706c4e59c0c255ab21054b5eeb713a83d17f8b243c2daa"
   }
  }
 },
 "nbformat": 4,
 "nbformat_minor": 2
}
