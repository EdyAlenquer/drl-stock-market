{
 "cells": [
  {
   "cell_type": "markdown",
   "metadata": {},
   "source": [
    "## Making experiment commands"
   ]
  },
  {
   "cell_type": "code",
   "execution_count": 1,
   "metadata": {},
   "outputs": [
    {
     "name": "stdout",
     "output_type": "stream",
     "text": [
      "python tune_hyperparameters.py --alg DDPG --tickers ITUB4.SA --hmax 0.05 --train-period 2017-01-01 2018-12-31 --eval-period 2019-01-01 2019-12-31 --trade-period 2020-01-01 2021-12-31 --initial-amount 100000 --n-trials 10 --metric-to-optimize \"Sortino ratio\" --train-timesteps 200000 --tuning-timesteps 30000 --n-trials 10 --n-repeats-by-trial 3 --use-best-model True -v 2 --experiment-name TEST_ENV_V2 --use-fundamental-indicators True --fundamental-indicators LPA VPA P/L P/EBITDA P/VPA DL/PL DL/EBITDA ROE MARGEM_EBITDA DL/EBIT MARGEM_EBIT MARGEM_LIQUIDA --use-tech-indicators True --tech-indicators macd boll_ub boll_lb rsi_30 stochrsi_30 wr_30 vwma_30 cci_30 dx_30 close_30_sma close_60_sma\n",
      "\n",
      "python tune_hyperparameters.py --alg DDPG --tickers ITUB4.SA --hmax 0.05 --train-period 2017-01-01 2018-12-31 --eval-period 2019-01-01 2019-12-31 --trade-period 2020-01-01 2021-12-31 --initial-amount 100000 --n-trials 10 --metric-to-optimize \"Sortino ratio\" --train-timesteps 200000 --tuning-timesteps 30000 --n-trials 10 --n-repeats-by-trial 3 --use-best-model True -v 2 --experiment-name TEST_ENV_V2 --use-tech-indicators True --tech-indicators macd boll_ub boll_lb rsi_30 stochrsi_30 wr_30 vwma_30 cci_30 dx_30 close_30_sma close_60_sma\n",
      "\n"
     ]
    }
   ],
   "source": [
    "import subprocess\n",
    "\n",
    "import sys\n",
    "sys.path.append('..')\n",
    "\n",
    "import numpy as np\n",
    "import config\n",
    "\n",
    "ALGOS = [\"DDPG\"]\n",
    "TICKERS = 'PETR4.SA'\n",
    "\n",
    "HMAX = [0.05]\n",
    "INITIAL_AMOUNT = 100000\n",
    "N_TRIALS = 20\n",
    "\n",
    "TUNING_TIMESTEPS = 30000\n",
    "TRAIN_TIMESTEPS = 200000\n",
    "N_REPEATS_BY_TRIAL = 3\n",
    "METRIC_TO_OPTIMIZE = 'Sortino ratio'\n",
    "\n",
    "TRAIN_PERIOD = ['2017-01-01', '2018-12-31']\n",
    "EVAL_PERIOD = ['2019-01-01', '2019-12-31']\n",
    "TRADE_PERIOD = ['2020-01-01', '2021-12-31']\n",
    "USE_BEST_MODEL = True\n",
    "\n",
    "USE_FUNDAMENTAL_INDICATORS = [True, False]\n",
    "USE_TECH_INDICATORS = [True]\n",
    "\n",
    "FUNDAMENTAL_INDICATORS = config.FUNDAMENTAL_INDICATORS\n",
    "# FUNDAMENTAL_INDICATORS = ['P/L', 'P/EBITDA', 'P/VPA']\n",
    "TECH_INDICATORS = config.TECH_INDICATORS\n",
    "\n",
    "ENV_VERSION = 2\n",
    "EXPERIMENT_NAME = 'TEST_ENV_V2'\n",
    "\n",
    "for alg in ALGOS:\n",
    "    for hmax in HMAX:\n",
    "        for use_technical in USE_TECH_INDICATORS:\n",
    "            for use_fundamental in USE_FUNDAMENTAL_INDICATORS:\n",
    "                args = [\n",
    "                    \"--alg\",\n",
    "                    alg,\n",
    "                    \"--tickers\",\n",
    "                    TICKERS,\n",
    "                    \"--hmax\",\n",
    "                    hmax,\n",
    "                    \"--train-period\",\n",
    "                    TRAIN_PERIOD[0], TRAIN_PERIOD[1],\n",
    "                    \"--eval-period\",\n",
    "                    EVAL_PERIOD[0], EVAL_PERIOD[1],\n",
    "                    \"--trade-period\",\n",
    "                    TRADE_PERIOD[0], TRADE_PERIOD[1],\n",
    "                    \"--initial-amount\",\n",
    "                    INITIAL_AMOUNT,\n",
    "                    \"--n-trials\",\n",
    "                    N_TRIALS,\n",
    "                    \"--metric-to-optimize\",\n",
    "                    \"\\\"\" + METRIC_TO_OPTIMIZE + \"\\\"\",\n",
    "                    \"--train-timesteps\",\n",
    "                    TRAIN_TIMESTEPS,\n",
    "                    \"--tuning-timesteps\",\n",
    "                    TUNING_TIMESTEPS,\n",
    "                    \"--n-trials\",\n",
    "                    N_TRIALS,\n",
    "                    \"--n-repeats-by-trial\",\n",
    "                    N_REPEATS_BY_TRIAL,\n",
    "                    \"--use-best-model\",\n",
    "                    USE_BEST_MODEL,\n",
    "                    \"-v\",\n",
    "                    ENV_VERSION,\n",
    "                    \"--experiment-name\",\n",
    "                    EXPERIMENT_NAME\n",
    "                ]\n",
    "                if use_fundamental:\n",
    "                    args += [\"--use-fundamental-indicators\", use_fundamental]\n",
    "                    args += [\"--fundamental-indicators\", ' '.join(FUNDAMENTAL_INDICATORS)]\n",
    "                if use_technical:\n",
    "                    args += [\"--use-tech-indicators\", use_technical]\n",
    "                    args += [\"--tech-indicators\", ' '.join(TECH_INDICATORS)]\n",
    "                args = list(map(str, args))\n",
    "                \n",
    "                print(' '.join([\"python\", \"tune_hyperparameters.py\"] + args))\n",
    "                print('')"
   ]
  },
  {
   "cell_type": "code",
   "execution_count": null,
   "metadata": {},
   "outputs": [],
   "source": []
  }
 ],
 "metadata": {
  "kernelspec": {
   "display_name": "Python 3.7.13 ('rl_study')",
   "language": "python",
   "name": "python3"
  },
  "language_info": {
   "codemirror_mode": {
    "name": "ipython",
    "version": 3
   },
   "file_extension": ".py",
   "mimetype": "text/x-python",
   "name": "python",
   "nbconvert_exporter": "python",
   "pygments_lexer": "ipython3",
   "version": "3.7.13"
  },
  "orig_nbformat": 4,
  "vscode": {
   "interpreter": {
    "hash": "341a02541f1d0567efbcf03e6932a0b436cfdb182a6f7ed8481fa754b294293d"
   }
  }
 },
 "nbformat": 4,
 "nbformat_minor": 2
}
