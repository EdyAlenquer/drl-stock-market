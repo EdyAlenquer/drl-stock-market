{
 "cells": [
  {
   "cell_type": "code",
   "execution_count": 3,
   "metadata": {},
   "outputs": [],
   "source": [
    "import pandas as pd\n",
    "import numpy as np\n",
    "import os\n",
    "from pathlib import Path\n"
   ]
  },
  {
   "cell_type": "code",
   "execution_count": 4,
   "metadata": {},
   "outputs": [
    {
     "data": {
      "text/plain": [
       "['..\\\\experiments\\\\ITUB4_012017_122018\\\\DDPG_200_TECH',\n",
       " '..\\\\experiments\\\\ITUB4_012017_122018\\\\DDPG_200_TECH_FUND']"
      ]
     },
     "execution_count": 4,
     "metadata": {},
     "output_type": "execute_result"
    }
   ],
   "source": [
    "EXPERIMENT_NAME = 'ITUB4_012017_122018'\n",
    "EXPERIMENT_PATHS = os.listdir(os.path.join('..', 'experiments', EXPERIMENT_NAME))\n",
    "EXPERIMENT_PATHS = [\n",
    "    os.path.join('..', 'experiments', EXPERIMENT_NAME, path) \n",
    "    for path \n",
    "    in EXPERIMENT_PATHS\n",
    "]\n",
    "\n",
    "EXPERIMENT_PATHS"
   ]
  },
  {
   "cell_type": "code",
   "execution_count": 5,
   "metadata": {},
   "outputs": [
    {
     "name": "stdout",
     "output_type": "stream",
     "text": [
      "--------------------------------------------------\n",
      "EXPERIMENT: ..\\experiments\\ITUB4_012017_122018\\DDPG_200_TECH\n",
      "--------------------------------------------------\n"
     ]
    },
    {
     "data": {
      "text/html": [
       "<div>\n",
       "<style scoped>\n",
       "    .dataframe tbody tr th:only-of-type {\n",
       "        vertical-align: middle;\n",
       "    }\n",
       "\n",
       "    .dataframe tbody tr th {\n",
       "        vertical-align: top;\n",
       "    }\n",
       "\n",
       "    .dataframe thead th {\n",
       "        text-align: right;\n",
       "    }\n",
       "</style>\n",
       "<table border=\"1\" class=\"dataframe\">\n",
       "  <thead>\n",
       "    <tr style=\"text-align: right;\">\n",
       "      <th></th>\n",
       "      <th>metric</th>\n",
       "    </tr>\n",
       "    <tr>\n",
       "      <th>trial</th>\n",
       "      <th></th>\n",
       "    </tr>\n",
       "  </thead>\n",
       "  <tbody>\n",
       "    <tr>\n",
       "      <th>5</th>\n",
       "      <td>1.899343</td>\n",
       "    </tr>\n",
       "    <tr>\n",
       "      <th>1</th>\n",
       "      <td>1.814127</td>\n",
       "    </tr>\n",
       "    <tr>\n",
       "      <th>4</th>\n",
       "      <td>1.283736</td>\n",
       "    </tr>\n",
       "    <tr>\n",
       "      <th>6</th>\n",
       "      <td>1.243456</td>\n",
       "    </tr>\n",
       "    <tr>\n",
       "      <th>3</th>\n",
       "      <td>0.899352</td>\n",
       "    </tr>\n",
       "  </tbody>\n",
       "</table>\n",
       "</div>"
      ],
      "text/plain": [
       "         metric\n",
       "trial          \n",
       "5      1.899343\n",
       "1      1.814127\n",
       "4      1.283736\n",
       "6      1.243456\n",
       "3      0.899352"
      ]
     },
     "metadata": {},
     "output_type": "display_data"
    },
    {
     "name": "stdout",
     "output_type": "stream",
     "text": [
      "{'gamma': 0.999, 'learning_starts': 2000, 'learning_rate': 0.00031911328648545753, 'batch_size': 8, 'buffer_size': 10000, 'train_freq': (256, 'step')}\n",
      "--------------------------------------------------\n",
      "EXPERIMENT: ..\\experiments\\ITUB4_012017_122018\\DDPG_200_TECH_FUND\n",
      "--------------------------------------------------\n"
     ]
    },
    {
     "data": {
      "text/html": [
       "<div>\n",
       "<style scoped>\n",
       "    .dataframe tbody tr th:only-of-type {\n",
       "        vertical-align: middle;\n",
       "    }\n",
       "\n",
       "    .dataframe tbody tr th {\n",
       "        vertical-align: top;\n",
       "    }\n",
       "\n",
       "    .dataframe thead th {\n",
       "        text-align: right;\n",
       "    }\n",
       "</style>\n",
       "<table border=\"1\" class=\"dataframe\">\n",
       "  <thead>\n",
       "    <tr style=\"text-align: right;\">\n",
       "      <th></th>\n",
       "      <th>metric</th>\n",
       "    </tr>\n",
       "    <tr>\n",
       "      <th>trial</th>\n",
       "      <th></th>\n",
       "    </tr>\n",
       "  </thead>\n",
       "  <tbody>\n",
       "    <tr>\n",
       "      <th>4</th>\n",
       "      <td>1.617112</td>\n",
       "    </tr>\n",
       "    <tr>\n",
       "      <th>6</th>\n",
       "      <td>1.094443</td>\n",
       "    </tr>\n",
       "    <tr>\n",
       "      <th>2</th>\n",
       "      <td>0.853849</td>\n",
       "    </tr>\n",
       "    <tr>\n",
       "      <th>3</th>\n",
       "      <td>0.749530</td>\n",
       "    </tr>\n",
       "    <tr>\n",
       "      <th>5</th>\n",
       "      <td>0.698454</td>\n",
       "    </tr>\n",
       "  </tbody>\n",
       "</table>\n",
       "</div>"
      ],
      "text/plain": [
       "         metric\n",
       "trial          \n",
       "4      1.617112\n",
       "6      1.094443\n",
       "2      0.853849\n",
       "3      0.749530\n",
       "5      0.698454"
      ]
     },
     "metadata": {},
     "output_type": "display_data"
    },
    {
     "name": "stdout",
     "output_type": "stream",
     "text": [
      "{'gamma': 0.999, 'learning_starts': 2000, 'learning_rate': 0.0001828008057260279, 'batch_size': 64, 'buffer_size': 100000, 'train_freq': (256, 'step')}\n"
     ]
    }
   ],
   "source": [
    "for experiment_path in EXPERIMENT_PATHS:\n",
    "\n",
    "    print('-'*50)\n",
    "    print(f'EXPERIMENT: {experiment_path}')\n",
    "    print('-'*50)\n",
    "    df_tuning_history = pd.read_csv(\n",
    "        os.path.join(\n",
    "            experiment_path,\n",
    "            'tuning',\n",
    "            'hp_tuning_hist.csv'\n",
    "        )\n",
    "    )\n",
    "\n",
    "    mean_by_trial = df_tuning_history.groupby('trial').mean().sort_values(\n",
    "        'metric', ascending=False\n",
    "    )\n",
    "    display(mean_by_trial.head())\n",
    "\n",
    "    best_trial = mean_by_trial.index[0]\n",
    "    best_params = df_tuning_history[df_tuning_history['trial']==best_trial].iloc[0]['hyperparameters']\n",
    "    print(best_params)\n",
    "\n",
    "# df_tuning_history"
   ]
  }
 ],
 "metadata": {
  "kernelspec": {
   "display_name": "Python 3.7.12 ('rl_study')",
   "language": "python",
   "name": "python3"
  },
  "language_info": {
   "codemirror_mode": {
    "name": "ipython",
    "version": 3
   },
   "file_extension": ".py",
   "mimetype": "text/x-python",
   "name": "python",
   "nbconvert_exporter": "python",
   "pygments_lexer": "ipython3",
   "version": "3.7.12"
  },
  "orig_nbformat": 4,
  "vscode": {
   "interpreter": {
    "hash": "4886b0e8a671695cd3706c4e59c0c255ab21054b5eeb713a83d17f8b243c2daa"
   }
  }
 },
 "nbformat": 4,
 "nbformat_minor": 2
}
